{
  "nbformat": 4,
  "nbformat_minor": 0,
  "metadata": {
    "colab": {
      "provenance": [],
      "toc_visible": true,
      "authorship_tag": "ABX9TyOwK493nzID28bZckokZOAE",
      "include_colab_link": true
    },
    "kernelspec": {
      "name": "python3",
      "display_name": "Python 3"
    },
    "language_info": {
      "name": "python"
    }
  },
  "cells": [
    {
      "cell_type": "markdown",
      "metadata": {
        "id": "view-in-github",
        "colab_type": "text"
      },
      "source": [
        "<a href=\"https://colab.research.google.com/github/MarcosSilva2021/PythonColab/blob/main/Revisao_Python.ipynb\" target=\"_parent\"><img src=\"https://colab.research.google.com/assets/colab-badge.svg\" alt=\"Open In Colab\"/></a>"
      ]
    },
    {
      "cell_type": "markdown",
      "source": [
        "* 1 - Escreva uma função que receba uma lista de números como argumento e retorne a soma desses números."
      ],
      "metadata": {
        "id": "8rYk6wh8ZrUx"
      }
    },
    {
      "cell_type": "code",
      "source": [
        "lista1 = [1,2,3]\n",
        "lista2 = [4,5,6]"
      ],
      "metadata": {
        "id": "BatHkUPQGkiD"
      },
      "execution_count": 13,
      "outputs": []
    },
    {
      "cell_type": "code",
      "source": [
        "import numpy as np"
      ],
      "metadata": {
        "id": "8sIC54knZvUN"
      },
      "execution_count": 14,
      "outputs": []
    },
    {
      "cell_type": "code",
      "source": [
        "def soma(lista = []): # com cauculos\n",
        "  soma = 0\n",
        "  for num in lista:\n",
        "    soma += num\n",
        "  return soma\n",
        "\n",
        "def soma_np(lista = []): # versão com metodos python\n",
        "  return np.sum(lista)\n",
        "\n",
        "print(soma([2,3,4]))\n",
        "print(soma_np([2,3,4]))\n"
      ],
      "metadata": {
        "colab": {
          "base_uri": "https://localhost:8080/"
        },
        "id": "JHyfK-gfAe87",
        "outputId": "41c9a966-67a1-4f47-a08e-8fc8c5e2df0c"
      },
      "execution_count": null,
      "outputs": [
        {
          "output_type": "stream",
          "name": "stdout",
          "text": [
            "9\n",
            "9\n"
          ]
        }
      ]
    },
    {
      "cell_type": "markdown",
      "source": [
        "1.1 função que execute a soma dos elementos de 2 listas"
      ],
      "metadata": {
        "id": "YVjbq-gZGRxH"
      }
    },
    {
      "cell_type": "code",
      "source": [
        "def soma2lista(lista1, lista2):\n",
        "  aux = []\n",
        "  for n1, n2 in zip(lista1, lista2):\n",
        "    aux.append(n1+n2)\n",
        "  return aux\n",
        "\n",
        "def soma2lista_np(lista1, lista2):\n",
        "  return np.array(lista1) + np.array(lista2)\n",
        "\n",
        "print(soma2lista([1,2], [3,4, 5]))\n",
        "print(soma2lista_np([1,2], [3,4,]))"
      ],
      "metadata": {
        "id": "RD0c7-awGZj-",
        "colab": {
          "base_uri": "https://localhost:8080/"
        },
        "outputId": "5b24ec87-288e-417b-ab9d-c3bb0e9cbc47"
      },
      "execution_count": 4,
      "outputs": [
        {
          "output_type": "stream",
          "name": "stdout",
          "text": [
            "[4, 6]\n",
            "[4 6]\n"
          ]
        }
      ]
    },
    {
      "cell_type": "markdown",
      "source": [
        "* 2 - Escreva uma função que receba um número inteiro como argumento e retorne True se o número for par e False caso contrário."
      ],
      "metadata": {
        "id": "MmYkkWa_aPta"
      }
    },
    {
      "cell_type": "code",
      "source": [
        "def eh_par(numero):\n",
        "  return numero % 2 == 0\n",
        "\n",
        "print(eh_par(4))\n",
        "\n",
        "## passando lista de aaray\n",
        "# Exemplo com array\n",
        "numeros = np.array([1, 2, 3, 4, 5, 6,0])\n",
        "resultado = eh_par(numeros)\n",
        "print(resultado)"
      ],
      "metadata": {
        "id": "RD0iaRSPaVqQ",
        "colab": {
          "base_uri": "https://localhost:8080/"
        },
        "outputId": "20b3ac0b-be8c-4738-9f03-4307f19b89f1"
      },
      "execution_count": 7,
      "outputs": [
        {
          "output_type": "stream",
          "name": "stdout",
          "text": [
            "True\n",
            "[False  True False  True False  True  True]\n"
          ]
        }
      ]
    },
    {
      "cell_type": "markdown",
      "source": [
        "* 3 - Escreva uma função que receba uma lista de números como argumento e retorne a média desses números."
      ],
      "metadata": {
        "id": "Xrml9LImaWy1"
      }
    },
    {
      "cell_type": "code",
      "source": [
        "def media_c(lista):\n",
        "  soma = 0\n",
        "  for n in lista:\n",
        "    soma += n\n",
        "  return soma/len(lista)\n",
        "\n",
        "lista1 = [1,2,3]\n",
        "def media_p(lista):\n",
        "  return sum(lista)/len(lista)\n",
        "\n",
        "def media_np(lista):\n",
        "  return np.mean(lista)\n",
        "\n",
        "print(media_c(lista1))\n",
        "print(media_p(lista1))\n",
        "print(media_np(lista1))"
      ],
      "metadata": {
        "id": "zmy4AL8raUZc",
        "colab": {
          "base_uri": "https://localhost:8080/"
        },
        "outputId": "53e78b5a-f188-4ed9-c9ba-4d7786a5305c"
      },
      "execution_count": 17,
      "outputs": [
        {
          "output_type": "stream",
          "name": "stdout",
          "text": [
            "2.0\n",
            "2.0\n",
            "2.0\n"
          ]
        }
      ]
    },
    {
      "cell_type": "markdown",
      "source": [
        "* 4 - Escreva uma função que receba uma lista de números como argumento e retorne o maior número da lista."
      ],
      "metadata": {
        "id": "lgm7Lx1mab4U"
      }
    },
    {
      "cell_type": "code",
      "source": [
        "lista3 = [1,2,3]\n",
        "\n",
        "def max_numero(lista):\n",
        "  maior = 0\n",
        "  for n in lista:\n",
        "    if maior < n:\n",
        "      maior = n\n",
        "  return maior\n",
        "\n",
        "def max_numero_p(lista):\n",
        "  return max(lista)\n",
        "\n",
        "print(max_numero(lista1))\n",
        "print(max_numero_p(lista1))"
      ],
      "metadata": {
        "id": "POiR3h1CabQU",
        "colab": {
          "base_uri": "https://localhost:8080/"
        },
        "outputId": "956872e7-e251-4a53-88c2-b16c1cfab4a1"
      },
      "execution_count": 18,
      "outputs": [
        {
          "output_type": "stream",
          "name": "stdout",
          "text": [
            "3\n",
            "3\n"
          ]
        }
      ]
    },
    {
      "cell_type": "markdown",
      "source": [
        "* 5 - Escreva uma função que receba uma string como argumento e retorne uma nova string com todas as vogais substituídas pelo caractere \"-\"."
      ],
      "metadata": {
        "id": "xDrh9v7-apuj"
      }
    },
    {
      "cell_type": "code",
      "source": [
        "def troca_vogais_c(texto):\n",
        "  vogais = [\"a\", \"e\", \"i\", \"o\", \"u\"]\n",
        "  for index in range(len(texto)):\n",
        "    if texto[index] in vogais:\n",
        "      texto[index] = \"-\"\n",
        "  return texto\n",
        "\n",
        "\n",
        "def troca_vogais_p(texto):\n",
        "  #texto = texto.lower()\n",
        "  vogais = [\"a\", \"e\", \"i\", \"o\", \"u\"]\n",
        "  for v in vogais:\n",
        "    texto =  texto.replace(v, \"-\")\n",
        "\n",
        "  return texto\n",
        "\n",
        "\n",
        "#print(troca_vogais(\"Banana\"))\n",
        "print(troca_vogais_p(\"BananA\"))"
      ],
      "metadata": {
        "id": "X8H-UDP9aoDx",
        "colab": {
          "base_uri": "https://localhost:8080/"
        },
        "outputId": "8b6a0f52-e89e-49eb-ca91-fd0e1a44da3e"
      },
      "execution_count": 21,
      "outputs": [
        {
          "output_type": "stream",
          "name": "stdout",
          "text": [
            "B-n-nA\n"
          ]
        }
      ]
    },
    {
      "cell_type": "markdown",
      "source": [
        "* 6 - Escreva uma função que receba uma lista de strings como argumento e retorne uma nova lista contendo apenas as strings que possuem mais de 5 caracteres."
      ],
      "metadata": {
        "id": "R4DOG63ma8mW"
      }
    },
    {
      "cell_type": "code",
      "source": [
        "def filtra_strings_longa(lista):\n",
        "    return [string for string in lista if len(string) > 5]\n",
        "\n",
        "lista_exemplo = [\"maçã\", \"banana\", \"laranja\", \"kiwi\", \"abacaxi\"]\n",
        "resultado = filtra_strings_longa(lista_exemplo)\n",
        "print(resultado)"
      ],
      "metadata": {
        "id": "V5gVSYxdcGSj",
        "colab": {
          "base_uri": "https://localhost:8080/"
        },
        "outputId": "945ad437-5996-463f-ebbe-6beaf3f3e3e1"
      },
      "execution_count": 23,
      "outputs": [
        {
          "output_type": "stream",
          "name": "stdout",
          "text": [
            "['banana', 'laranja', 'abacaxi']\n"
          ]
        }
      ]
    },
    {
      "cell_type": "markdown",
      "source": [
        "* 7 - Escreva uma função que receba uma lista de números como argumento e retorne uma nova lista contendo apenas os números ímpares."
      ],
      "metadata": {
        "id": "kx795H8HbHKj"
      }
    },
    {
      "cell_type": "code",
      "source": [
        "def filtra_numeros_impares_c(lista):\n",
        "    numeros_impares = []\n",
        "    for numero in lista:\n",
        "        if numero % 2 != 0:\n",
        "            numeros_impares.append(numero)\n",
        "    return numeros_impares\n",
        "\n",
        "def filtra_numeros_impares(lista):\n",
        "    return [numero for numero in lista if numero % 2 != 0]\n",
        "\n",
        "def filtra_numeros_impares_p(lista):\n",
        "    return list(filter(lambda numero: numero % 2 != 0, lista))\n",
        "\n",
        "lista_exemplo = [1, 2, 3, 4, 5, 6, 7, 8, 9]\n",
        "\n",
        "print(filtra_numeros_impares_c(lista_exemplo))\n",
        "print(filtra_numeros_impares(lista_exemplo))\n",
        "print(filtra_numeros_impares_p(lista_exemplo))"
      ],
      "metadata": {
        "id": "edWZCb7ycI6q",
        "colab": {
          "base_uri": "https://localhost:8080/"
        },
        "outputId": "2a3e1b0a-a2f6-418a-841e-c7c041246f3f"
      },
      "execution_count": 27,
      "outputs": [
        {
          "output_type": "stream",
          "name": "stdout",
          "text": [
            "[1, 3, 5, 7, 9]\n",
            "[1, 3, 5, 7, 9]\n",
            "[1, 3, 5, 7, 9]\n"
          ]
        }
      ]
    },
    {
      "cell_type": "markdown",
      "source": [
        "* 8 - Escreva uma função que receba uma lista ou vetor e retorne cada elemento da lista somado 2"
      ],
      "metadata": {
        "id": "n75_SEdZbP1R"
      }
    },
    {
      "cell_type": "code",
      "source": [
        "def soma_dois(lista):\n",
        "    resultado = []\n",
        "    for elemento in lista:\n",
        "        resultado.append(elemento + 2)\n",
        "    return resultado\n",
        "\n",
        "def soma_dois_p(lista):\n",
        "    return list(map(lambda x: x + 2, lista))\n",
        "\n",
        "print(soma_dois([1,2,3]))\n",
        "print(soma_dois_p([1,2,3]))"
      ],
      "metadata": {
        "id": "rt06_MAZcLdk",
        "colab": {
          "base_uri": "https://localhost:8080/"
        },
        "outputId": "e8be5a31-12c9-47b3-a8d4-065f3008d216"
      },
      "execution_count": 29,
      "outputs": [
        {
          "output_type": "stream",
          "name": "stdout",
          "text": [
            "[3, 4, 5]\n",
            "[3, 4, 5]\n"
          ]
        }
      ]
    },
    {
      "cell_type": "markdown",
      "source": [
        "* 9 - Escreva uma função que receba uma lista de numéros e conte quantas ocorrenências para cada número"
      ],
      "metadata": {
        "id": "OUBc5njsbS1K"
      }
    },
    {
      "cell_type": "code",
      "source": [
        "def conta_lista(lista):\n",
        "  aux = {}\n",
        "  for num in lista:\n",
        "    aux[num] = lista.count(num)\n",
        "  return aux\n",
        "\n",
        "print(conta_lista([1,1,1,2,2,3,4]))"
      ],
      "metadata": {
        "id": "PpEDpP1mcOLN",
        "colab": {
          "base_uri": "https://localhost:8080/"
        },
        "outputId": "4f51beff-a29a-46bc-eec8-718f04707fa1"
      },
      "execution_count": 30,
      "outputs": [
        {
          "output_type": "stream",
          "name": "stdout",
          "text": [
            "{1: 3, 2: 2, 3: 1, 4: 1}\n"
          ]
        }
      ]
    },
    {
      "cell_type": "markdown",
      "source": [
        "* 10 -  Crie uma calculadora com arquivo externo em python chamado calculadora.py e coloques as operações de soma, subtração, multiplicação e divisão"
      ],
      "metadata": {
        "id": "uPq0OHeCbZEG"
      }
    },
    {
      "cell_type": "code",
      "source": [
        "# def soma(a, b):\n",
        "#     return a + b\n",
        "\n",
        "# def subtracao(a, b):\n",
        "#     return a - b\n",
        "\n",
        "# def multiplicacao(a, b):\n",
        "#     return a * b\n",
        "\n",
        "# def divisao(a, b):\n",
        "#     if b == 0:\n",
        "#         raise ValueError(\"Divisão por zero não é permitida.\")\n",
        "#     return a / b\n",
        "\n",
        "# if __name__ == \"__main__\":\n",
        "#     while True:\n",
        "#         print(\"\\nEscolha uma operação:\")\n",
        "#         print(\"1. Soma\")\n",
        "#         print(\"2. Subtração\")\n",
        "#         print(\"3. Multiplicação\")\n",
        "#         print(\"4. Divisão\")\n",
        "#         print(\"5. Sair\")\n",
        "\n",
        "#         escolha = input(\"Digite sua escolha (1/2/3/4/5): \")\n",
        "\n",
        "#         if escolha == '5':\n",
        "#             print(\"Saindo...\")\n",
        "#             break\n",
        "\n",
        "#         if escolha in ['1', '2', '3', '4']:\n",
        "#             num1 = float(input(\"Digite o primeiro número: \"))\n",
        "#             num2 = float(input(\"Digite o segundo número: \"))\n",
        "\n",
        "#             if escolha == '1':\n",
        "#                 print(f\"{num1} + {num2} = {soma(num1, num2)}\")\n",
        "#             elif escolha == '2':\n",
        "#                 print(f\"{num1} - {num2} = {subtracao(num1, num2)}\")\n",
        "#             elif escolha == '3':\n",
        "#                 print(f\"{num1} * {num2} = {multiplicacao(num1, num2)}\")\n",
        "#             elif escolha == '4':\n",
        "#                 try:\n",
        "#                     print(f\"{num1} / {num2} = {divisao(num1, num2)}\")\n",
        "#                 except ValueError as e:\n",
        "#                     print(e)\n",
        "#         else:\n",
        "#             print(\"Escolha inválida. Tente novamente.\")"
      ],
      "metadata": {
        "id": "W1T9E-LkcQtz"
      },
      "execution_count": null,
      "outputs": []
    },
    {
      "cell_type": "code",
      "source": [
        "import calculadora as cd"
      ],
      "metadata": {
        "id": "ovOg3zOWRt1v"
      },
      "execution_count": 33,
      "outputs": []
    },
    {
      "cell_type": "code",
      "source": [
        "input(5)"
      ],
      "metadata": {
        "colab": {
          "base_uri": "https://localhost:8080/",
          "height": 54
        },
        "id": "uWwC3tqlR2jw",
        "outputId": "3e7d6427-b08e-4037-fe8f-f1c028fb209a"
      },
      "execution_count": 46,
      "outputs": [
        {
          "name": "stdout",
          "output_type": "stream",
          "text": [
            "55\n"
          ]
        },
        {
          "output_type": "execute_result",
          "data": {
            "text/plain": [
              "'5'"
            ],
            "application/vnd.google.colaboratory.intrinsic+json": {
              "type": "string"
            }
          },
          "metadata": {},
          "execution_count": 46
        }
      ]
    },
    {
      "cell_type": "markdown",
      "source": [
        "# Pandas"
      ],
      "metadata": {
        "id": "HGxIyhjWU1ML"
      }
    },
    {
      "cell_type": "code",
      "source": [
        "import pandas as pd"
      ],
      "metadata": {
        "id": "p41xcBPiU4pu"
      },
      "execution_count": 42,
      "outputs": []
    },
    {
      "cell_type": "code",
      "source": [
        "df = pd.read_csv(\"sample_data/california_housing_train.csv\")"
      ],
      "metadata": {
        "id": "r3JCegaZVA-2"
      },
      "execution_count": 43,
      "outputs": []
    },
    {
      "cell_type": "code",
      "source": [
        "df.head()"
      ],
      "metadata": {
        "colab": {
          "base_uri": "https://localhost:8080/",
          "height": 226
        },
        "id": "9jV-qUYlVEuY",
        "outputId": "2c8d190c-336b-4e84-a54c-3e662c064498"
      },
      "execution_count": 44,
      "outputs": [
        {
          "output_type": "execute_result",
          "data": {
            "text/plain": [
              "   longitude  latitude  housing_median_age  total_rooms  total_bedrooms  \\\n",
              "0    -114.31     34.19                15.0       5612.0          1283.0   \n",
              "1    -114.47     34.40                19.0       7650.0          1901.0   \n",
              "2    -114.56     33.69                17.0        720.0           174.0   \n",
              "3    -114.57     33.64                14.0       1501.0           337.0   \n",
              "4    -114.57     33.57                20.0       1454.0           326.0   \n",
              "\n",
              "   population  households  median_income  median_house_value  \n",
              "0      1015.0       472.0         1.4936             66900.0  \n",
              "1      1129.0       463.0         1.8200             80100.0  \n",
              "2       333.0       117.0         1.6509             85700.0  \n",
              "3       515.0       226.0         3.1917             73400.0  \n",
              "4       624.0       262.0         1.9250             65500.0  "
            ],
            "text/html": [
              "\n",
              "  <div id=\"df-e4f74634-2619-4bcb-8320-d109d377d4af\" class=\"colab-df-container\">\n",
              "    <div>\n",
              "<style scoped>\n",
              "    .dataframe tbody tr th:only-of-type {\n",
              "        vertical-align: middle;\n",
              "    }\n",
              "\n",
              "    .dataframe tbody tr th {\n",
              "        vertical-align: top;\n",
              "    }\n",
              "\n",
              "    .dataframe thead th {\n",
              "        text-align: right;\n",
              "    }\n",
              "</style>\n",
              "<table border=\"1\" class=\"dataframe\">\n",
              "  <thead>\n",
              "    <tr style=\"text-align: right;\">\n",
              "      <th></th>\n",
              "      <th>longitude</th>\n",
              "      <th>latitude</th>\n",
              "      <th>housing_median_age</th>\n",
              "      <th>total_rooms</th>\n",
              "      <th>total_bedrooms</th>\n",
              "      <th>population</th>\n",
              "      <th>households</th>\n",
              "      <th>median_income</th>\n",
              "      <th>median_house_value</th>\n",
              "    </tr>\n",
              "  </thead>\n",
              "  <tbody>\n",
              "    <tr>\n",
              "      <th>0</th>\n",
              "      <td>-114.31</td>\n",
              "      <td>34.19</td>\n",
              "      <td>15.0</td>\n",
              "      <td>5612.0</td>\n",
              "      <td>1283.0</td>\n",
              "      <td>1015.0</td>\n",
              "      <td>472.0</td>\n",
              "      <td>1.4936</td>\n",
              "      <td>66900.0</td>\n",
              "    </tr>\n",
              "    <tr>\n",
              "      <th>1</th>\n",
              "      <td>-114.47</td>\n",
              "      <td>34.40</td>\n",
              "      <td>19.0</td>\n",
              "      <td>7650.0</td>\n",
              "      <td>1901.0</td>\n",
              "      <td>1129.0</td>\n",
              "      <td>463.0</td>\n",
              "      <td>1.8200</td>\n",
              "      <td>80100.0</td>\n",
              "    </tr>\n",
              "    <tr>\n",
              "      <th>2</th>\n",
              "      <td>-114.56</td>\n",
              "      <td>33.69</td>\n",
              "      <td>17.0</td>\n",
              "      <td>720.0</td>\n",
              "      <td>174.0</td>\n",
              "      <td>333.0</td>\n",
              "      <td>117.0</td>\n",
              "      <td>1.6509</td>\n",
              "      <td>85700.0</td>\n",
              "    </tr>\n",
              "    <tr>\n",
              "      <th>3</th>\n",
              "      <td>-114.57</td>\n",
              "      <td>33.64</td>\n",
              "      <td>14.0</td>\n",
              "      <td>1501.0</td>\n",
              "      <td>337.0</td>\n",
              "      <td>515.0</td>\n",
              "      <td>226.0</td>\n",
              "      <td>3.1917</td>\n",
              "      <td>73400.0</td>\n",
              "    </tr>\n",
              "    <tr>\n",
              "      <th>4</th>\n",
              "      <td>-114.57</td>\n",
              "      <td>33.57</td>\n",
              "      <td>20.0</td>\n",
              "      <td>1454.0</td>\n",
              "      <td>326.0</td>\n",
              "      <td>624.0</td>\n",
              "      <td>262.0</td>\n",
              "      <td>1.9250</td>\n",
              "      <td>65500.0</td>\n",
              "    </tr>\n",
              "  </tbody>\n",
              "</table>\n",
              "</div>\n",
              "    <div class=\"colab-df-buttons\">\n",
              "\n",
              "  <div class=\"colab-df-container\">\n",
              "    <button class=\"colab-df-convert\" onclick=\"convertToInteractive('df-e4f74634-2619-4bcb-8320-d109d377d4af')\"\n",
              "            title=\"Convert this dataframe to an interactive table.\"\n",
              "            style=\"display:none;\">\n",
              "\n",
              "  <svg xmlns=\"http://www.w3.org/2000/svg\" height=\"24px\" viewBox=\"0 -960 960 960\">\n",
              "    <path d=\"M120-120v-720h720v720H120Zm60-500h600v-160H180v160Zm220 220h160v-160H400v160Zm0 220h160v-160H400v160ZM180-400h160v-160H180v160Zm440 0h160v-160H620v160ZM180-180h160v-160H180v160Zm440 0h160v-160H620v160Z\"/>\n",
              "  </svg>\n",
              "    </button>\n",
              "\n",
              "  <style>\n",
              "    .colab-df-container {\n",
              "      display:flex;\n",
              "      gap: 12px;\n",
              "    }\n",
              "\n",
              "    .colab-df-convert {\n",
              "      background-color: #E8F0FE;\n",
              "      border: none;\n",
              "      border-radius: 50%;\n",
              "      cursor: pointer;\n",
              "      display: none;\n",
              "      fill: #1967D2;\n",
              "      height: 32px;\n",
              "      padding: 0 0 0 0;\n",
              "      width: 32px;\n",
              "    }\n",
              "\n",
              "    .colab-df-convert:hover {\n",
              "      background-color: #E2EBFA;\n",
              "      box-shadow: 0px 1px 2px rgba(60, 64, 67, 0.3), 0px 1px 3px 1px rgba(60, 64, 67, 0.15);\n",
              "      fill: #174EA6;\n",
              "    }\n",
              "\n",
              "    .colab-df-buttons div {\n",
              "      margin-bottom: 4px;\n",
              "    }\n",
              "\n",
              "    [theme=dark] .colab-df-convert {\n",
              "      background-color: #3B4455;\n",
              "      fill: #D2E3FC;\n",
              "    }\n",
              "\n",
              "    [theme=dark] .colab-df-convert:hover {\n",
              "      background-color: #434B5C;\n",
              "      box-shadow: 0px 1px 3px 1px rgba(0, 0, 0, 0.15);\n",
              "      filter: drop-shadow(0px 1px 2px rgba(0, 0, 0, 0.3));\n",
              "      fill: #FFFFFF;\n",
              "    }\n",
              "  </style>\n",
              "\n",
              "    <script>\n",
              "      const buttonEl =\n",
              "        document.querySelector('#df-e4f74634-2619-4bcb-8320-d109d377d4af button.colab-df-convert');\n",
              "      buttonEl.style.display =\n",
              "        google.colab.kernel.accessAllowed ? 'block' : 'none';\n",
              "\n",
              "      async function convertToInteractive(key) {\n",
              "        const element = document.querySelector('#df-e4f74634-2619-4bcb-8320-d109d377d4af');\n",
              "        const dataTable =\n",
              "          await google.colab.kernel.invokeFunction('convertToInteractive',\n",
              "                                                    [key], {});\n",
              "        if (!dataTable) return;\n",
              "\n",
              "        const docLinkHtml = 'Like what you see? Visit the ' +\n",
              "          '<a target=\"_blank\" href=https://colab.research.google.com/notebooks/data_table.ipynb>data table notebook</a>'\n",
              "          + ' to learn more about interactive tables.';\n",
              "        element.innerHTML = '';\n",
              "        dataTable['output_type'] = 'display_data';\n",
              "        await google.colab.output.renderOutput(dataTable, element);\n",
              "        const docLink = document.createElement('div');\n",
              "        docLink.innerHTML = docLinkHtml;\n",
              "        element.appendChild(docLink);\n",
              "      }\n",
              "    </script>\n",
              "  </div>\n",
              "\n",
              "\n",
              "<div id=\"df-040b8551-3b03-4aae-9583-838bc2b45267\">\n",
              "  <button class=\"colab-df-quickchart\" onclick=\"quickchart('df-040b8551-3b03-4aae-9583-838bc2b45267')\"\n",
              "            title=\"Suggest charts\"\n",
              "            style=\"display:none;\">\n",
              "\n",
              "<svg xmlns=\"http://www.w3.org/2000/svg\" height=\"24px\"viewBox=\"0 0 24 24\"\n",
              "     width=\"24px\">\n",
              "    <g>\n",
              "        <path d=\"M19 3H5c-1.1 0-2 .9-2 2v14c0 1.1.9 2 2 2h14c1.1 0 2-.9 2-2V5c0-1.1-.9-2-2-2zM9 17H7v-7h2v7zm4 0h-2V7h2v10zm4 0h-2v-4h2v4z\"/>\n",
              "    </g>\n",
              "</svg>\n",
              "  </button>\n",
              "\n",
              "<style>\n",
              "  .colab-df-quickchart {\n",
              "      --bg-color: #E8F0FE;\n",
              "      --fill-color: #1967D2;\n",
              "      --hover-bg-color: #E2EBFA;\n",
              "      --hover-fill-color: #174EA6;\n",
              "      --disabled-fill-color: #AAA;\n",
              "      --disabled-bg-color: #DDD;\n",
              "  }\n",
              "\n",
              "  [theme=dark] .colab-df-quickchart {\n",
              "      --bg-color: #3B4455;\n",
              "      --fill-color: #D2E3FC;\n",
              "      --hover-bg-color: #434B5C;\n",
              "      --hover-fill-color: #FFFFFF;\n",
              "      --disabled-bg-color: #3B4455;\n",
              "      --disabled-fill-color: #666;\n",
              "  }\n",
              "\n",
              "  .colab-df-quickchart {\n",
              "    background-color: var(--bg-color);\n",
              "    border: none;\n",
              "    border-radius: 50%;\n",
              "    cursor: pointer;\n",
              "    display: none;\n",
              "    fill: var(--fill-color);\n",
              "    height: 32px;\n",
              "    padding: 0;\n",
              "    width: 32px;\n",
              "  }\n",
              "\n",
              "  .colab-df-quickchart:hover {\n",
              "    background-color: var(--hover-bg-color);\n",
              "    box-shadow: 0 1px 2px rgba(60, 64, 67, 0.3), 0 1px 3px 1px rgba(60, 64, 67, 0.15);\n",
              "    fill: var(--button-hover-fill-color);\n",
              "  }\n",
              "\n",
              "  .colab-df-quickchart-complete:disabled,\n",
              "  .colab-df-quickchart-complete:disabled:hover {\n",
              "    background-color: var(--disabled-bg-color);\n",
              "    fill: var(--disabled-fill-color);\n",
              "    box-shadow: none;\n",
              "  }\n",
              "\n",
              "  .colab-df-spinner {\n",
              "    border: 2px solid var(--fill-color);\n",
              "    border-color: transparent;\n",
              "    border-bottom-color: var(--fill-color);\n",
              "    animation:\n",
              "      spin 1s steps(1) infinite;\n",
              "  }\n",
              "\n",
              "  @keyframes spin {\n",
              "    0% {\n",
              "      border-color: transparent;\n",
              "      border-bottom-color: var(--fill-color);\n",
              "      border-left-color: var(--fill-color);\n",
              "    }\n",
              "    20% {\n",
              "      border-color: transparent;\n",
              "      border-left-color: var(--fill-color);\n",
              "      border-top-color: var(--fill-color);\n",
              "    }\n",
              "    30% {\n",
              "      border-color: transparent;\n",
              "      border-left-color: var(--fill-color);\n",
              "      border-top-color: var(--fill-color);\n",
              "      border-right-color: var(--fill-color);\n",
              "    }\n",
              "    40% {\n",
              "      border-color: transparent;\n",
              "      border-right-color: var(--fill-color);\n",
              "      border-top-color: var(--fill-color);\n",
              "    }\n",
              "    60% {\n",
              "      border-color: transparent;\n",
              "      border-right-color: var(--fill-color);\n",
              "    }\n",
              "    80% {\n",
              "      border-color: transparent;\n",
              "      border-right-color: var(--fill-color);\n",
              "      border-bottom-color: var(--fill-color);\n",
              "    }\n",
              "    90% {\n",
              "      border-color: transparent;\n",
              "      border-bottom-color: var(--fill-color);\n",
              "    }\n",
              "  }\n",
              "</style>\n",
              "\n",
              "  <script>\n",
              "    async function quickchart(key) {\n",
              "      const quickchartButtonEl =\n",
              "        document.querySelector('#' + key + ' button');\n",
              "      quickchartButtonEl.disabled = true;  // To prevent multiple clicks.\n",
              "      quickchartButtonEl.classList.add('colab-df-spinner');\n",
              "      try {\n",
              "        const charts = await google.colab.kernel.invokeFunction(\n",
              "            'suggestCharts', [key], {});\n",
              "      } catch (error) {\n",
              "        console.error('Error during call to suggestCharts:', error);\n",
              "      }\n",
              "      quickchartButtonEl.classList.remove('colab-df-spinner');\n",
              "      quickchartButtonEl.classList.add('colab-df-quickchart-complete');\n",
              "    }\n",
              "    (() => {\n",
              "      let quickchartButtonEl =\n",
              "        document.querySelector('#df-040b8551-3b03-4aae-9583-838bc2b45267 button');\n",
              "      quickchartButtonEl.style.display =\n",
              "        google.colab.kernel.accessAllowed ? 'block' : 'none';\n",
              "    })();\n",
              "  </script>\n",
              "</div>\n",
              "\n",
              "    </div>\n",
              "  </div>\n"
            ],
            "application/vnd.google.colaboratory.intrinsic+json": {
              "type": "dataframe",
              "variable_name": "df",
              "summary": "{\n  \"name\": \"df\",\n  \"rows\": 17000,\n  \"fields\": [\n    {\n      \"column\": \"longitude\",\n      \"properties\": {\n        \"dtype\": \"number\",\n        \"std\": 2.0051664084261778,\n        \"min\": -124.35,\n        \"max\": -114.31,\n        \"num_unique_values\": 827,\n        \"samples\": [\n          -117.56,\n          -123.32,\n          -118.26\n        ],\n        \"semantic_type\": \"\",\n        \"description\": \"\"\n      }\n    },\n    {\n      \"column\": \"latitude\",\n      \"properties\": {\n        \"dtype\": \"number\",\n        \"std\": 2.1373397946570836,\n        \"min\": 32.54,\n        \"max\": 41.95,\n        \"num_unique_values\": 840,\n        \"samples\": [\n          38.44,\n          40.79,\n          32.69\n        ],\n        \"semantic_type\": \"\",\n        \"description\": \"\"\n      }\n    },\n    {\n      \"column\": \"housing_median_age\",\n      \"properties\": {\n        \"dtype\": \"number\",\n        \"std\": 12.586936981660399,\n        \"min\": 1.0,\n        \"max\": 52.0,\n        \"num_unique_values\": 52,\n        \"samples\": [\n          23.0,\n          52.0,\n          47.0\n        ],\n        \"semantic_type\": \"\",\n        \"description\": \"\"\n      }\n    },\n    {\n      \"column\": \"total_rooms\",\n      \"properties\": {\n        \"dtype\": \"number\",\n        \"std\": 2179.947071452767,\n        \"min\": 2.0,\n        \"max\": 37937.0,\n        \"num_unique_values\": 5533,\n        \"samples\": [\n          3564.0,\n          6955.0,\n          5451.0\n        ],\n        \"semantic_type\": \"\",\n        \"description\": \"\"\n      }\n    },\n    {\n      \"column\": \"total_bedrooms\",\n      \"properties\": {\n        \"dtype\": \"number\",\n        \"std\": 421.4994515798646,\n        \"min\": 1.0,\n        \"max\": 6445.0,\n        \"num_unique_values\": 1848,\n        \"samples\": [\n          729.0,\n          719.0,\n          2075.0\n        ],\n        \"semantic_type\": \"\",\n        \"description\": \"\"\n      }\n    },\n    {\n      \"column\": \"population\",\n      \"properties\": {\n        \"dtype\": \"number\",\n        \"std\": 1147.8529591595266,\n        \"min\": 3.0,\n        \"max\": 35682.0,\n        \"num_unique_values\": 3683,\n        \"samples\": [\n          249.0,\n          1735.0,\n          235.0\n        ],\n        \"semantic_type\": \"\",\n        \"description\": \"\"\n      }\n    },\n    {\n      \"column\": \"households\",\n      \"properties\": {\n        \"dtype\": \"number\",\n        \"std\": 384.5208408559009,\n        \"min\": 1.0,\n        \"max\": 6082.0,\n        \"num_unique_values\": 1740,\n        \"samples\": [\n          390.0,\n          1089.0,\n          1351.0\n        ],\n        \"semantic_type\": \"\",\n        \"description\": \"\"\n      }\n    },\n    {\n      \"column\": \"median_income\",\n      \"properties\": {\n        \"dtype\": \"number\",\n        \"std\": 1.9081565183791036,\n        \"min\": 0.4999,\n        \"max\": 15.0001,\n        \"num_unique_values\": 11175,\n        \"samples\": [\n          7.2655,\n          5.6293,\n          4.2262\n        ],\n        \"semantic_type\": \"\",\n        \"description\": \"\"\n      }\n    },\n    {\n      \"column\": \"median_house_value\",\n      \"properties\": {\n        \"dtype\": \"number\",\n        \"std\": 115983.76438720885,\n        \"min\": 14999.0,\n        \"max\": 500001.0,\n        \"num_unique_values\": 3694,\n        \"samples\": [\n          162300.0,\n          346800.0,\n          116700.0\n        ],\n        \"semantic_type\": \"\",\n        \"description\": \"\"\n      }\n    }\n  ]\n}"
            }
          },
          "metadata": {},
          "execution_count": 44
        }
      ]
    }
  ]
}