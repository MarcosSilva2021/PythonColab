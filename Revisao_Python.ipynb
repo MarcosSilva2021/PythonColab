{
  "nbformat": 4,
  "nbformat_minor": 0,
  "metadata": {
    "colab": {
      "provenance": [],
      "authorship_tag": "ABX9TyNUAGkR+PRvZ32hSF4u28KM",
      "include_colab_link": true
    },
    "kernelspec": {
      "name": "python3",
      "display_name": "Python 3"
    },
    "language_info": {
      "name": "python"
    }
  },
  "cells": [
    {
      "cell_type": "markdown",
      "metadata": {
        "id": "view-in-github",
        "colab_type": "text"
      },
      "source": [
        "<a href=\"https://colab.research.google.com/github/MarcosSilva2021/PythonColab/blob/main/Revisao_Python.ipynb\" target=\"_parent\"><img src=\"https://colab.research.google.com/assets/colab-badge.svg\" alt=\"Open In Colab\"/></a>"
      ]
    },
    {
      "cell_type": "markdown",
      "source": [
        "* 1 - Escreva uma função que receba uma lista de números como argumento e retorne a soma desses números."
      ],
      "metadata": {
        "id": "8rYk6wh8ZrUx"
      }
    },
    {
      "cell_type": "code",
      "source": [
        "lista1 = [1,2,3]\n",
        "lista2 = [4,5,6]"
      ],
      "metadata": {
        "id": "BatHkUPQGkiD"
      },
      "execution_count": 13,
      "outputs": []
    },
    {
      "cell_type": "code",
      "source": [
        "import numpy as np"
      ],
      "metadata": {
        "id": "8sIC54knZvUN"
      },
      "execution_count": 7,
      "outputs": []
    },
    {
      "cell_type": "code",
      "source": [
        "def soma(lista = []): # com cauculos\n",
        "  soma = 0\n",
        "  for num in lista:\n",
        "    soma += num\n",
        "  return soma\n",
        "\n",
        "def soma_np(lista = []): # versão com metodos python\n",
        "  return np.sum(lista)\n",
        "\n",
        "print(soma([2,3,4]))\n",
        "print(soma_np([2,3,4]))\n"
      ],
      "metadata": {
        "colab": {
          "base_uri": "https://localhost:8080/"
        },
        "id": "JHyfK-gfAe87",
        "outputId": "41c9a966-67a1-4f47-a08e-8fc8c5e2df0c"
      },
      "execution_count": 12,
      "outputs": [
        {
          "output_type": "stream",
          "name": "stdout",
          "text": [
            "9\n",
            "9\n"
          ]
        }
      ]
    },
    {
      "cell_type": "markdown",
      "source": [
        "1.1 função que execute a soma dos elementos de 2 listas"
      ],
      "metadata": {
        "id": "YVjbq-gZGRxH"
      }
    },
    {
      "cell_type": "code",
      "source": [
        "def soma2lista_c(lista1, lista2):\n",
        "  aux = []\n",
        "  tamlista = len(lista1 or lista2)\n",
        "  for index in range(0, len(lista2))"
      ],
      "metadata": {
        "id": "RD0c7-awGZj-"
      },
      "execution_count": null,
      "outputs": []
    },
    {
      "cell_type": "markdown",
      "source": [
        "* 2 - Escreva uma função que receba um número inteiro como argumento e retorne True se o número for par e False caso contrário."
      ],
      "metadata": {
        "id": "MmYkkWa_aPta"
      }
    },
    {
      "cell_type": "code",
      "source": [],
      "metadata": {
        "id": "RD0iaRSPaVqQ"
      },
      "execution_count": null,
      "outputs": []
    },
    {
      "cell_type": "markdown",
      "source": [
        "* 3 - Escreva uma função que receba uma lista de números como argumento e retorne a média desses números."
      ],
      "metadata": {
        "id": "Xrml9LImaWy1"
      }
    },
    {
      "cell_type": "code",
      "source": [],
      "metadata": {
        "id": "zmy4AL8raUZc"
      },
      "execution_count": null,
      "outputs": []
    },
    {
      "cell_type": "markdown",
      "source": [
        "* 4 - Escreva uma função que receba uma lista de números como argumento e retorne o maior número da lista."
      ],
      "metadata": {
        "id": "lgm7Lx1mab4U"
      }
    },
    {
      "cell_type": "code",
      "source": [],
      "metadata": {
        "id": "POiR3h1CabQU"
      },
      "execution_count": null,
      "outputs": []
    },
    {
      "cell_type": "markdown",
      "source": [
        "* 5 - Escreva uma função que receba uma string como argumento e retorne uma nova string com todas as vogais substituídas pelo caractere \"-\"."
      ],
      "metadata": {
        "id": "xDrh9v7-apuj"
      }
    },
    {
      "cell_type": "code",
      "source": [],
      "metadata": {
        "id": "X8H-UDP9aoDx"
      },
      "execution_count": null,
      "outputs": []
    },
    {
      "cell_type": "markdown",
      "source": [
        "* 6 - Escreva uma função que receba uma lista de strings como argumento e retorne uma nova lista contendo apenas as strings que possuem mais de 5 caracteres."
      ],
      "metadata": {
        "id": "R4DOG63ma8mW"
      }
    },
    {
      "cell_type": "code",
      "source": [],
      "metadata": {
        "id": "V5gVSYxdcGSj"
      },
      "execution_count": null,
      "outputs": []
    },
    {
      "cell_type": "markdown",
      "source": [
        "* 7 - Escreva uma função que receba uma lista de números como argumento e retorne uma nova lista contendo apenas os números ímpares."
      ],
      "metadata": {
        "id": "kx795H8HbHKj"
      }
    },
    {
      "cell_type": "code",
      "source": [],
      "metadata": {
        "id": "edWZCb7ycI6q"
      },
      "execution_count": null,
      "outputs": []
    },
    {
      "cell_type": "markdown",
      "source": [
        "* 8 - Escreva uma função que receba uma lista ou vetor e retorne cada elemento da lista somado 2"
      ],
      "metadata": {
        "id": "n75_SEdZbP1R"
      }
    },
    {
      "cell_type": "code",
      "source": [],
      "metadata": {
        "id": "rt06_MAZcLdk"
      },
      "execution_count": null,
      "outputs": []
    },
    {
      "cell_type": "markdown",
      "source": [
        "* 9 - Escreva uma função que receba uma lista de numéros e conte quantas ocorrenências para cada número"
      ],
      "metadata": {
        "id": "OUBc5njsbS1K"
      }
    },
    {
      "cell_type": "code",
      "source": [],
      "metadata": {
        "id": "PpEDpP1mcOLN"
      },
      "execution_count": null,
      "outputs": []
    },
    {
      "cell_type": "markdown",
      "source": [
        "* 10 -  Crie uma calculadora com arquivo externo em python chamado calculadora.py e coloques as operações de soma, subtração, multiplicação e divisão"
      ],
      "metadata": {
        "id": "uPq0OHeCbZEG"
      }
    },
    {
      "cell_type": "code",
      "source": [],
      "metadata": {
        "id": "W1T9E-LkcQtz"
      },
      "execution_count": null,
      "outputs": []
    }
  ]
}