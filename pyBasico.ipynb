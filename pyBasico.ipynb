{
  "nbformat": 4,
  "nbformat_minor": 0,
  "metadata": {
    "colab": {
      "provenance": [],
      "authorship_tag": "ABX9TyPzXwxmEgiZO/0PVZU5wqvv",
      "include_colab_link": true
    },
    "kernelspec": {
      "name": "python3",
      "display_name": "Python 3"
    },
    "language_info": {
      "name": "python"
    }
  },
  "cells": [
    {
      "cell_type": "markdown",
      "metadata": {
        "id": "view-in-github",
        "colab_type": "text"
      },
      "source": [
        "<a href=\"https://colab.research.google.com/github/MarcosSilva2021/PythonColab/blob/main/pyBasico.ipynb\" target=\"_parent\"><img src=\"https://colab.research.google.com/assets/colab-badge.svg\" alt=\"Open In Colab\"/></a>"
      ]
    },
    {
      "cell_type": "markdown",
      "source": [
        "Faça um Programa que peça dois números e imprima a soma."
      ],
      "metadata": {
        "id": "Zvvlgi76E_3g"
      }
    },
    {
      "cell_type": "markdown",
      "source": [],
      "metadata": {
        "id": "bueWh8LxXHy0"
      }
    },
    {
      "cell_type": "markdown",
      "source": [],
      "metadata": {
        "id": "W8Tc6NRmXJoD"
      }
    },
    {
      "cell_type": "code",
      "source": [],
      "metadata": {
        "id": "qxoHWNZjG6fl"
      },
      "execution_count": null,
      "outputs": []
    },
    {
      "cell_type": "code",
      "execution_count": null,
      "metadata": {
        "id": "o-hpV_lXEJKX"
      },
      "outputs": [],
      "source": [
        "numero1 = float(input(\"Digite o primeiro número: \"))\n",
        "numero2 = float(input(\"digite o segindo numero: \"))\n",
        "#calcular a soma\n",
        "resultado = numero1 + numero2\n",
        "\n",
        "print(\"A soma dos numeros e: \", resultado)"
      ]
    },
    {
      "cell_type": "markdown",
      "source": [
        "Faça um Programa que peça o raio de um círculo, calcule e mostre sua área."
      ],
      "metadata": {
        "id": "m9XTuburHoR1"
      }
    },
    {
      "cell_type": "code",
      "source": [
        "import math\n",
        "\n",
        "# Solicita o raio do círculo ao usuário\n",
        "raio = float(input(\"Digite o raio do círculo: \"))\n",
        "\n",
        "# Calcula a área do círculo\n",
        "area = (math.pi * raio ** 2)\n",
        "\n",
        "#del print\n",
        "\n",
        "# Exibe o resultado\n",
        "print(f\"A área do círculo com raio {raio} é: {area:.2f}\")\n"
      ],
      "metadata": {
        "colab": {
          "base_uri": "https://localhost:8080/"
        },
        "id": "pMWvbV3QJCyc",
        "outputId": "f35c9512-495d-43f3-e308-e2f8c19b58b3"
      },
      "execution_count": null,
      "outputs": [
        {
          "output_type": "stream",
          "name": "stdout",
          "text": [
            "Digite o raio do círculo: 4\n",
            "A área do círculo com raio 4.0 é: 50.27\n"
          ]
        }
      ]
    },
    {
      "cell_type": "markdown",
      "source": [
        "# Estruturas de Decisão"
      ],
      "metadata": {
        "id": "xo2y84syHBTr"
      }
    },
    {
      "cell_type": "markdown",
      "source": [
        "# Listas"
      ],
      "metadata": {
        "id": "HLNIg654LoN_"
      }
    },
    {
      "cell_type": "markdown",
      "source": [
        "Faça um Programa que leia um vetor de 5 números inteiros e mostre-os."
      ],
      "metadata": {
        "id": "m8aLFrB8Lw_n"
      }
    },
    {
      "cell_type": "code",
      "source": [
        "vetor = []\n",
        "\n",
        "for i in range(5):\n",
        "    numero = int(input(f\"Digite o {i+1}º número inteiro: \"))\n",
        "    vetor.append(numero)\n",
        "\n",
        "print(\"Os números digitados foram:\")\n",
        "for numero in vetor:\n",
        "    print(numero)"
      ],
      "metadata": {
        "id": "JfGjWVS_Lyh2"
      },
      "execution_count": null,
      "outputs": []
    },
    {
      "cell_type": "code",
      "source": [
        "vetorRev = []\n",
        "\n",
        "for i in range(5):\n",
        "  vetorRev.insert(0,(int(input('Numero'+ str(i+1) + ':\\n'))))\n",
        "\n",
        "print(\"A ordem reversa da lista e: \")\n",
        "print(vetorRev)"
      ],
      "metadata": {
        "id": "mX0pk545MRFU"
      },
      "execution_count": null,
      "outputs": []
    },
    {
      "cell_type": "markdown",
      "source": [
        "Faça um Programa que leia um vetor de 10 números reais e mostre-os na ordem inversa."
      ],
      "metadata": {
        "id": "vE5zgMCoMroe"
      }
    },
    {
      "cell_type": "code",
      "source": [
        "ListaVetor = []\n",
        "\n",
        "for i in range(5):\n",
        "  ListaVetor.append(int(input('Numero '+ str(i+1) + ':\\n')))\n",
        "\n",
        "ListaVetor.reverse()\n",
        "print(\"A ordem reversa da lista e: \")\n",
        "print(ListaVetor)\n",
        "\n"
      ],
      "metadata": {
        "id": "l94jh6SXMzXO"
      },
      "execution_count": null,
      "outputs": []
    },
    {
      "cell_type": "markdown",
      "source": [
        "Faça um Programa que leia um vetor de 10 caracteres, e diga quantas consoantes foram lidas. Imprima as consoantes."
      ],
      "metadata": {
        "id": "n-xmgqQCUIWJ"
      }
    },
    {
      "cell_type": "code",
      "source": [
        "listaChar = []\n",
        "listaChar2 = []\n",
        "consoantes = 0\n",
        "print(\"informe os caracteres\")\n",
        "\n",
        "for i in range(5):\n",
        "  listaChar.append((input('Caracter '+ str(i+1) + ':\\n')))\n",
        "  char = listaChar[i]\n",
        "  if (char not in ('a','e','i','o','u')):\n",
        "    consoantes +=1\n",
        "    listaChar2.append(char)\n",
        "\n",
        "print(\"Consoantes\",consoantes)\n",
        "print(listaChar2)\n"
      ],
      "metadata": {
        "colab": {
          "base_uri": "https://localhost:8080/"
        },
        "id": "mO81LUqNULe4",
        "outputId": "a7c48c7e-ebc5-4a4c-a32f-75547c928916",
        "collapsed": true
      },
      "execution_count": null,
      "outputs": [
        {
          "output_type": "stream",
          "name": "stdout",
          "text": [
            "informe os caracteres\n",
            "Caracter 1:\n",
            "a\n",
            "Caracter 2:\n",
            "b\n",
            "Caracter 3:\n",
            "c\n",
            "Caracter 4:\n",
            "d\n",
            "Caracter 5:\n",
            "e\n",
            "Consoantes 3\n",
            "['b', 'c', 'd']\n"
          ]
        }
      ]
    },
    {
      "cell_type": "markdown",
      "source": [],
      "metadata": {
        "id": "luRzDKl4V7zs"
      }
    },
    {
      "cell_type": "markdown",
      "source": [
        "Faça um programa que leia 2 strings e informe o conteúdo delas seguido do seu comprimento. Informe também se as duas strings possuem o mesmo comprimento e são iguais ou diferentes no conteúdo."
      ],
      "metadata": {
        "id": "RPL2cSRSQ71U"
      }
    },
    {
      "cell_type": "code",
      "source": [
        "# Função principal\n",
        "def main():\n",
        "    # Lê as duas strings do usuário\n",
        "    string1 = input(\"Digite a primeira string: \")\n",
        "    string2 = input(\"Digite a segunda string: \")\n",
        "\n",
        "    # Obtém o comprimento das strings\n",
        "    comprimento1 = len(string1)\n",
        "    comprimento2 = len(string2)\n",
        "\n",
        "    # Exibe o conteúdo e o comprimento de cada string\n",
        "    print(f\"Conteúdo da primeira string: '{string1}'\")\n",
        "    print(f\"Comprimento da primeira string: {comprimento1}\")\n",
        "    print(f\"Conteúdo da segunda string: '{string2}'\")\n",
        "    print(f\"Comprimento da segunda string: {comprimento2}\")\n",
        "\n",
        "    # Verifica se as strings têm o mesmo comprimento\n",
        "    if comprimento1 == comprimento2:\n",
        "        print(\"As duas strings têm o mesmo comprimento.\")\n",
        "    else:\n",
        "        print(\"As duas strings têm comprimentos diferentes.\")\n",
        "\n",
        "    # Verifica se as strings são iguais ou diferentes\n",
        "    if string1 == string2:\n",
        "        print(\"As duas strings são iguais.\")\n",
        "    else:\n",
        "        print(\"As duas strings são diferentes.\")\n",
        "\n",
        "# Chama a função principal\n",
        "if __name__ == \"__main__\":\n",
        "    main()\n"
      ],
      "metadata": {
        "colab": {
          "base_uri": "https://localhost:8080/"
        },
        "id": "ZR80_lHaQ_xr",
        "outputId": "e4bce7b1-7065-455f-9940-e9af0de097a6"
      },
      "execution_count": null,
      "outputs": [
        {
          "output_type": "stream",
          "name": "stdout",
          "text": [
            "Digite a primeira string: olamundo\n",
            "Digite a segunda string: helloword\n",
            "Conteúdo da primeira string: 'olamundo'\n",
            "Comprimento da primeira string: 8\n",
            "Conteúdo da segunda string: 'helloword'\n",
            "Comprimento da segunda string: 9\n",
            "As duas strings têm comprimentos diferentes.\n",
            "As duas strings são diferentes.\n"
          ]
        }
      ]
    },
    {
      "cell_type": "code",
      "source": [
        "\n",
        "def troca_vogais_c(texto):\n",
        "  vogais = [\"a\", \"e\", \"i\", \"o\", \"u\"]\n",
        "  for index in range(len(texto)):\n",
        " #   if texto[index] in vogais:\n",
        "      texto[index] = \"-\"\n",
        "  return texto\n",
        "\n",
        "print(troca_vogais_c(\"Banana\"))\n",
        "# texto de ia\n",
        "def trocar_vogais_c(texto):\n",
        "    vogais = \"aeiouAEIOU\"  # Incluindo maiúsculas para uma verificação mais completa\n",
        "    novo_texto = \"\"\n",
        "    for letra in texto:\n",
        "        if letra in vogais:\n",
        "            novo_texto += \"-\"\n",
        "        else:\n",
        "            novo_texto += letra\n",
        "    return novo_texto\n",
        "\n",
        "print(trocar_vogais_c(\"Banana\"))\n"
      ],
      "metadata": {
        "colab": {
          "base_uri": "https://localhost:8080/",
          "height": 332
        },
        "id": "n1jdeBLCRyNr",
        "outputId": "cc93e647-f4d6-428b-bce6-4ec9137e9533"
      },
      "execution_count": null,
      "outputs": [
        {
          "output_type": "error",
          "ename": "TypeError",
          "evalue": "'str' object does not support item assignment",
          "traceback": [
            "\u001b[0;31m---------------------------------------------------------------------------\u001b[0m",
            "\u001b[0;31mTypeError\u001b[0m                                 Traceback (most recent call last)",
            "\u001b[0;32m<ipython-input-9-0a4403d9e386>\u001b[0m in \u001b[0;36m<cell line: 8>\u001b[0;34m()\u001b[0m\n\u001b[1;32m      6\u001b[0m   \u001b[0;32mreturn\u001b[0m \u001b[0mtexto\u001b[0m\u001b[0;34m\u001b[0m\u001b[0;34m\u001b[0m\u001b[0m\n\u001b[1;32m      7\u001b[0m \u001b[0;34m\u001b[0m\u001b[0m\n\u001b[0;32m----> 8\u001b[0;31m \u001b[0mprint\u001b[0m\u001b[0;34m(\u001b[0m\u001b[0mtroca_vogais_c\u001b[0m\u001b[0;34m(\u001b[0m\u001b[0;34m\"Banana\"\u001b[0m\u001b[0;34m)\u001b[0m\u001b[0;34m)\u001b[0m\u001b[0;34m\u001b[0m\u001b[0;34m\u001b[0m\u001b[0m\n\u001b[0m\u001b[1;32m      9\u001b[0m \u001b[0;31m# texto de ia\u001b[0m\u001b[0;34m\u001b[0m\u001b[0;34m\u001b[0m\u001b[0m\n\u001b[1;32m     10\u001b[0m \u001b[0;32mdef\u001b[0m \u001b[0mtrocar_vogais_c\u001b[0m\u001b[0;34m(\u001b[0m\u001b[0mtexto\u001b[0m\u001b[0;34m)\u001b[0m\u001b[0;34m:\u001b[0m\u001b[0;34m\u001b[0m\u001b[0;34m\u001b[0m\u001b[0m\n",
            "\u001b[0;32m<ipython-input-9-0a4403d9e386>\u001b[0m in \u001b[0;36mtroca_vogais_c\u001b[0;34m(texto)\u001b[0m\n\u001b[1;32m      3\u001b[0m   \u001b[0;32mfor\u001b[0m \u001b[0mindex\u001b[0m \u001b[0;32min\u001b[0m \u001b[0mrange\u001b[0m\u001b[0;34m(\u001b[0m\u001b[0mlen\u001b[0m\u001b[0;34m(\u001b[0m\u001b[0mtexto\u001b[0m\u001b[0;34m)\u001b[0m\u001b[0;34m)\u001b[0m\u001b[0;34m:\u001b[0m\u001b[0;34m\u001b[0m\u001b[0;34m\u001b[0m\u001b[0m\n\u001b[1;32m      4\u001b[0m     \u001b[0;32mif\u001b[0m \u001b[0mtexto\u001b[0m\u001b[0;34m[\u001b[0m\u001b[0mindex\u001b[0m\u001b[0;34m]\u001b[0m \u001b[0;32min\u001b[0m \u001b[0mvogais\u001b[0m\u001b[0;34m:\u001b[0m\u001b[0;34m\u001b[0m\u001b[0;34m\u001b[0m\u001b[0m\n\u001b[0;32m----> 5\u001b[0;31m       \u001b[0mtexto\u001b[0m\u001b[0;34m[\u001b[0m\u001b[0mindex\u001b[0m\u001b[0;34m]\u001b[0m \u001b[0;34m=\u001b[0m \u001b[0;34m\"-\"\u001b[0m\u001b[0;34m\u001b[0m\u001b[0;34m\u001b[0m\u001b[0m\n\u001b[0m\u001b[1;32m      6\u001b[0m   \u001b[0;32mreturn\u001b[0m \u001b[0mtexto\u001b[0m\u001b[0;34m\u001b[0m\u001b[0;34m\u001b[0m\u001b[0m\n\u001b[1;32m      7\u001b[0m \u001b[0;34m\u001b[0m\u001b[0m\n",
            "\u001b[0;31mTypeError\u001b[0m: 'str' object does not support item assignment"
          ]
        }
      ]
    },
    {
      "cell_type": "markdown",
      "source": [
        "** Conte o número de elementos elementos em uma lista input: [1,1,1,2,2,3,4] output: {1:3, 2}"
      ],
      "metadata": {
        "id": "2w_sgagZXL3Y"
      }
    },
    {
      "cell_type": "code",
      "source": [
        "def conta_lista(lista):\n",
        "  aux = {}  #dicionario\n",
        "  for num in lista:\n",
        "    aux[num] = lista.count(num)\n",
        "  return aux\n",
        "\n",
        "print(conta_lista([1,1,1,2,2,3,4]))"
      ],
      "metadata": {
        "colab": {
          "base_uri": "https://localhost:8080/"
        },
        "id": "50YJG7oAXNT4",
        "outputId": "3fa6976f-23f9-48c8-dc06-65be7fe240c7",
        "collapsed": true
      },
      "execution_count": null,
      "outputs": [
        {
          "output_type": "stream",
          "name": "stdout",
          "text": [
            "{1: 3, 2: 2, 3: 1, 4: 1}\n"
          ]
        }
      ]
    },
    {
      "cell_type": "code",
      "source": [
        "import numpy as np\n",
        "lista = [1,1,1,2,2,3,4,5]\n",
        "\n",
        "np.unique(lista, return_counts=True,)"
      ],
      "metadata": {
        "id": "Z3rKjAIxfx4r"
      },
      "execution_count": null,
      "outputs": []
    },
    {
      "cell_type": "markdown",
      "source": [
        "#Classes"
      ],
      "metadata": {
        "id": "Vc_PTBHYdo13"
      }
    },
    {
      "cell_type": "markdown",
      "source": [
        "implentação de classes\n"
      ],
      "metadata": {
        "id": "sPzCj0XrH7Mk"
      }
    },
    {
      "cell_type": "code",
      "source": [
        "class Tarefa:\n",
        "  def __init__(self, id, desc, status, prazo):\n",
        "    self.id = id\n",
        "    self.descricao = desc\n",
        "    self.status = status\n",
        "    self.prazo = prazo\n",
        "\n",
        "\n",
        "class GerenciadorTarefas:\n",
        "  def __init__(self):\n",
        "    self.tarefas = []\n",
        "\n",
        "  def Add(self, tarefa):\n",
        "      self.tarefas.append(tarefa)\n",
        "\n",
        "  def remove1(self, tarefa):\n",
        "      self.tarefas.remove(tarefa)\n",
        "\n",
        "  def remove(self, id):\n",
        "    for tarefa in self.tarefas:\n",
        "      if id == tarefa.id:\n",
        "        self.tarefas.remove(tarefa)\n",
        "\n",
        "  def update(self, id, nova_desc, novo_status, novo_prazo):\n",
        "    for tarefa in self.tarefas:\n",
        "      if id == tarefa.id:\n",
        "        if nova_desc:\n",
        "          tarefa.descricao = nova_desc\n",
        "        if novo_status:\n",
        "          tarefa.status = novo_status\n",
        "        if novo_prazo:\n",
        "          tarefa.prazo = novo_prazo\n",
        "\n",
        "\n",
        "  def show_tarefas(self):\n",
        "      for tarefa in self.tarefas:\n",
        "        print(f\"Código: {tarefa.id} Descricão:  {tarefa.descricao}  Status, {tarefa.status}  Prazo:  {tarefa.prazo}\" )"
      ],
      "metadata": {
        "id": "llFqX8EYH-c3"
      },
      "execution_count": null,
      "outputs": []
    },
    {
      "cell_type": "code",
      "source": [],
      "metadata": {
        "id": "PHlM9_foKwGS"
      },
      "execution_count": null,
      "outputs": []
    },
    {
      "cell_type": "code",
      "source": [
        "tarefa = Tarefa(1, \"teste\", \"pedente\", \"31/02\")\n",
        "tarefa2 = Tarefa(2, \"teste2\", \"pedente2\", \"31/03\")\n",
        "geren = GerenciadorTarefas()"
      ],
      "metadata": {
        "id": "OFldBEHLIVTY"
      },
      "execution_count": null,
      "outputs": []
    },
    {
      "cell_type": "code",
      "source": [
        "print(tarefa)"
      ],
      "metadata": {
        "colab": {
          "base_uri": "https://localhost:8080/"
        },
        "id": "_Sl9-PGeIam4",
        "outputId": "4d9ed0a1-ae48-44dc-ff41-53b27f1f0d87"
      },
      "execution_count": null,
      "outputs": [
        {
          "output_type": "stream",
          "name": "stdout",
          "text": [
            "<__main__.Tarefa object at 0x7daa363e3370>\n"
          ]
        }
      ]
    },
    {
      "cell_type": "code",
      "source": [
        "tarefa.descricao"
      ],
      "metadata": {
        "colab": {
          "base_uri": "https://localhost:8080/",
          "height": 35
        },
        "id": "qldazOw4I2mq",
        "outputId": "81ee86d0-d012-4857-ced0-68766a1294c4"
      },
      "execution_count": null,
      "outputs": [
        {
          "output_type": "execute_result",
          "data": {
            "text/plain": [
              "'teste'"
            ],
            "application/vnd.google.colaboratory.intrinsic+json": {
              "type": "string"
            }
          },
          "metadata": {},
          "execution_count": 7
        }
      ]
    },
    {
      "cell_type": "code",
      "source": [
        "geren.Add(tarefa)\n",
        "geren.Add(tarefa2)\n",
        "\n",
        "geren.show_tarefas()"
      ],
      "metadata": {
        "colab": {
          "base_uri": "https://localhost:8080/"
        },
        "id": "OiHZbelgI9yg",
        "outputId": "96be13bc-b75d-4e01-86e7-c99865a47018"
      },
      "execution_count": null,
      "outputs": [
        {
          "output_type": "stream",
          "name": "stdout",
          "text": [
            "Código: 1 Descricão:  teste  Status, pedente  Prazo:  31/02\n",
            "Código: 2 Descricão:  teste2  Status, pedente2  Prazo:  31/03\n"
          ]
        }
      ]
    },
    {
      "cell_type": "code",
      "source": [
        "geren.update(1, \"teste3\", \"pendente2\",\"10/10\")"
      ],
      "metadata": {
        "id": "G8xDdlG5Qufn"
      },
      "execution_count": null,
      "outputs": []
    },
    {
      "cell_type": "code",
      "source": [
        "geren.update(1,\"Novo teste de1\", null, null )\n",
        "geren.show_tarefas()"
      ],
      "metadata": {
        "colab": {
          "base_uri": "https://localhost:8080/",
          "height": 158
        },
        "id": "MZ3m9O4QSK6Y",
        "outputId": "9e5ce27f-b970-4807-825f-5d6dd77078af"
      },
      "execution_count": null,
      "outputs": [
        {
          "output_type": "error",
          "ename": "NameError",
          "evalue": "name 'geren' is not defined",
          "traceback": [
            "\u001b[0;31m---------------------------------------------------------------------------\u001b[0m",
            "\u001b[0;31mNameError\u001b[0m                                 Traceback (most recent call last)",
            "\u001b[0;32m<ipython-input-3-085cb984741b>\u001b[0m in \u001b[0;36m<cell line: 1>\u001b[0;34m()\u001b[0m\n\u001b[0;32m----> 1\u001b[0;31m \u001b[0mgeren\u001b[0m\u001b[0;34m.\u001b[0m\u001b[0mupdate\u001b[0m\u001b[0;34m(\u001b[0m\u001b[0;36m1\u001b[0m\u001b[0;34m,\u001b[0m\u001b[0;34m\"Novo teste de1\"\u001b[0m\u001b[0;34m,\u001b[0m \u001b[0mnull\u001b[0m\u001b[0;34m,\u001b[0m \u001b[0mnull\u001b[0m \u001b[0;34m)\u001b[0m\u001b[0;34m\u001b[0m\u001b[0;34m\u001b[0m\u001b[0m\n\u001b[0m\u001b[1;32m      2\u001b[0m \u001b[0mgeren\u001b[0m\u001b[0;34m.\u001b[0m\u001b[0mshow_tarefas\u001b[0m\u001b[0;34m(\u001b[0m\u001b[0;34m)\u001b[0m\u001b[0;34m\u001b[0m\u001b[0;34m\u001b[0m\u001b[0m\n",
            "\u001b[0;31mNameError\u001b[0m: name 'geren' is not defined"
          ]
        }
      ]
    },
    {
      "cell_type": "code",
      "source": [
        "geren.show_tarefas()"
      ],
      "metadata": {
        "colab": {
          "base_uri": "https://localhost:8080/"
        },
        "id": "3uw1sBSBR4VJ",
        "outputId": "35291878-b8e9-486d-da87-9e56ecd01e20"
      },
      "execution_count": null,
      "outputs": [
        {
          "output_type": "stream",
          "name": "stdout",
          "text": [
            "Código: 1 Descricão:  teste3  Status, pendente2  Prazo:  10/10\n",
            "Código: 2 Descricão:  teste2  Status, pedente2  Prazo:  31/03\n"
          ]
        }
      ]
    }
  ]
}